{
 "cells": [
  {
   "cell_type": "markdown",
   "id": "53def95b",
   "metadata": {},
   "source": [
    "# Домашнее задание №3. Неопределенность оптимального портфеля. Оптимизация CVaR.\n",
    "#### Выполнили: Мельников, Малышева, Селивановская\n",
    "\n",
    "Целью работы является оценка неопределенности оптимального портфеля для нормального многомерного распределения и двух способов вычисления оптимального портфеля (оптимизация в модели Марковица и оптимизация CVaR)"
   ]
  },
  {
   "cell_type": "code",
   "execution_count": 12,
   "id": "dc93710f",
   "metadata": {},
   "outputs": [],
   "source": [
    "import pandas as pd\n",
    "import yfinance as yf\n",
    "import numpy as np\n",
    "import matplotlib.pyplot as plt\n",
    "import scipy.stats\n",
    "import scipy\n",
    "import math\n",
    "import seaborn as sns\n",
    "import warnings\n",
    "from random import randint\n",
    "from scipy.optimize import minimize\n",
    "from matplotlib.ticker import ScalarFormatter\n",
    "warnings.filterwarnings('ignore')\n",
    "\n",
    "from IPython.display import clear_output"
   ]
  },
  {
   "cell_type": "markdown",
   "id": "55e6004d",
   "metadata": {},
   "source": [
    "#### Вспомогательные функции: "
   ]
  },
  {
   "cell_type": "code",
   "execution_count": 13,
   "id": "2c831d28",
   "metadata": {},
   "outputs": [],
   "source": [
    "# загрузка данных либо с yahoo finance, либо из локального файла\n",
    "def download_data(tickers_list, year, local_file=False):\n",
    "    if not local_file:\n",
    "        data = yf.download(tickers_list, f'{year}-01-01',f'{year}-12-31') # ! \n",
    "    else:\n",
    "        data = pd.read_pickle('ticker_data')\n",
    "    \n",
    "    adj_close = data['Adj Close']    \n",
    "    tickers = adj_close.columns\n",
    "    dates = adj_close.index\n",
    "    log_returns = pd.DataFrame(index=adj_close.index[1:], columns=adj_close.columns)\n",
    "    \n",
    "    for date_index in range(1, len(dates)):\n",
    "        for ticker in tickers:\n",
    "            prev_adj_close = adj_close.loc[dates[date_index - 1], ticker]\n",
    "            curr_adj_close = adj_close.loc[dates[date_index], ticker]        \n",
    "            log_returns.loc[dates[date_index], ticker] = np.log(curr_adj_close/prev_adj_close)\n",
    "    \n",
    "    return log_returns\n",
    "# TODO: compare the results\n",
    "\n",
    "'''\n",
    "def download_data(tickers_list, year, local_file=False, reduce_tickers=False, add_index=False):   \n",
    "        \n",
    "    if not local_file:\n",
    "        data = yf.download(tickers_list, f'{year}-01-01',f'{year}-12-31') # ! \n",
    "    else:\n",
    "        data = pd.read_pickle('ticker_data')\n",
    "    \n",
    "    data = data.drop(columns = ['Low', 'High', 'Open', 'Close'])\n",
    "    \n",
    "    if add_index:\n",
    "        index = pd.read_csv('index_ixic.csv', sep=\",\")\n",
    "        index = index.drop(columns = ['Low', 'High', 'Open', 'Close'])\n",
    "    \n",
    "    adj_close = data['Adj Close'] # adjusted closing price\n",
    "    volume = data['Volume'] # sales volume\n",
    "\n",
    "    adj_close.reset_index(level=0, inplace=True) # set index from date to int\n",
    "    volume.reset_index(level=0, inplace=True)\n",
    "    \n",
    "    \n",
    "    for i in range(0, len(adj_close['Date'])):\n",
    "        volume.loc[i, 'Date'] = str(volume['Date'][i].date())\n",
    "        adj_close.loc[i, 'Date'] = str(adj_close['Date'][i].date())\n",
    "\n",
    "\n",
    "    adj_indexes = set(adj_close['Date'].to_list())\n",
    "    ind_indexes = set(index['Date'].to_list())\n",
    "    diff = adj_indexes.difference(ind_indexes)\n",
    "    \n",
    "    adj_close = adj_close.loc[adj_close['Date'] != f'{year}-11-28']\n",
    "    volume = volume.loc[volume['Date'] != f'{year}-11-28']\n",
    "\n",
    "    #handling missing values\n",
    "    adj_close = adj_close.dropna(axis=1, how='any')\n",
    "    volume = volume.dropna(axis=1, how='any')\n",
    "\n",
    "    #add the index data to the main data\n",
    "    if add_index:\n",
    "        adj_close['IXIC'] = index['Adj Close']\n",
    "        volume['IXIC'] = index['Volume']\n",
    "\n",
    "    #delete last day as ixic is nan\n",
    "    adj_close = adj_close.loc[adj_close['Date'] != f'{year}-12-30']\n",
    "    volume = volume.loc[volume['Date'] != f'{year}-12-30']\n",
    "\n",
    "    #reindex after drop\n",
    "    adj_close.reset_index(drop=True, inplace=True)\n",
    "\n",
    "    #reduce the number of tickers\n",
    "    \n",
    "    if reduce_tickers is True:\n",
    "        tickers_to_delete = adj_close.columns.to_list()\n",
    "        tickers_to_delete.remove('Date')\n",
    "        tickers_to_delete.remove('IXIC')\n",
    "        tickers_to_delete = tickers_to_delete[::2]\n",
    "        adj_close.drop(tickers_to_delete, inplace=True, axis=1) \n",
    "        volume.drop(tickers_to_delete, inplace=True, axis=1) \n",
    "\n",
    "    # calculate logarithmic returns\n",
    "    log_returns = pd.DataFrame(index = adj_close.index, columns = adj_close.columns)\n",
    "    log_returns['Date'] = adj_close['Date']\n",
    "    tickers = adj_close.columns.to_list()\n",
    "    tickers.remove('Date')\n",
    "\n",
    "    #num_days=len(log_returns['AADR'])\n",
    "    num_days=len(log_returns[tickers[0]])\n",
    "    print(len(tickers))\n",
    "    \n",
    "    for ticker in tickers:\n",
    "        for i in range(1, num_days):\n",
    "            log_returns.loc[i, ticker] = np.log(adj_close.loc[i, ticker]/adj_close.loc[i-1, ticker])\n",
    "    #dropping first day\n",
    "    log_returns = log_returns.dropna(axis=0, how='any')\n",
    "    log_returns.reset_index( drop=True, inplace=True) \n",
    "    \n",
    "    if add_index:        \n",
    "        index_log_returns = log_returns.loc[:, [\"Date\", \"IXIC\"]]\n",
    "        log_returns.drop(columns=['IXIC'], axis=0, inplace=True)\n",
    "        \n",
    "        return log_returns, index_log_returns\n",
    "    \n",
    "    return log_returns\n",
    "'''\n",
    "\n",
    "# выборочные средние \n",
    "def calc_sample_means(returns):\n",
    "    tickers = returns.columns # предполагаем, что первый столбец - дата \n",
    "    sample_means = pd.DataFrame(columns = ['Sample mean (E)'], index = tickers)\n",
    "    for ticker in tickers:\n",
    "        mean = np.mean(returns[ticker])\n",
    "        sample_means['Sample mean (E)'][ticker] = mean\n",
    "    return sample_means\n",
    "\n",
    "# матрица выборочных ковариаций\n",
    "def calc_sample_cov(returns, sample_means, verbose=True):\n",
    "    tickers = returns.columns\n",
    "    sample_cov = pd.DataFrame(columns = tickers, index = tickers)\n",
    "    status_count = 0\n",
    "    for ticker1 in tickers:    \n",
    "        if verbose:\n",
    "            status_count += 1\n",
    "            clear_output()\n",
    "            print(f\"{status_count}/{len(tickers)}\")\n",
    "\n",
    "        for ticker2 in tickers:\n",
    "            sum_ = 0\n",
    "            N = returns[ticker2].shape[0] # количество наблюдений\n",
    "            for i in range(N):\n",
    "                sum_ += (returns[ticker1][i] - float(sample_means.loc[ticker1])) * (returns[ticker2][i] - float(sample_means.loc[ticker2]))\n",
    "\n",
    "            sample_cov[ticker1][ticker2] = sum_ / (N)\n",
    "    return sample_cov\n",
    "\n",
    "# доходность портфеля\n",
    "def calc_portfolio_return(x, means): \n",
    "    #E = sum(means.iloc[0:n_stocks] * x)\n",
    "    #E = np.matmul(x, means)\n",
    "    E = np.matmul(x, means.to_numpy())\n",
    "    E = float(E)\n",
    "    return E\n",
    "\n",
    "# риск портфеля\n",
    "def calc_portfolio_volatility(x, cov_matrix): \n",
    "    #sigma_sq = np.matmul(np.matmul(x, cov_matrix), x.T)\n",
    "    sigma_sq = np.matmul(np.matmul(x, cov_matrix.to_numpy()), x.T)\n",
    "    sigma_sq = float(sigma_sq)\n",
    "    return sigma_sq\n"
   ]
  },
  {
   "cell_type": "markdown",
   "id": "ba1fd51e",
   "metadata": {},
   "source": [
    "## Подготовка модели.\n",
    "\n",
    "Выберите на рынке 20 активов ($ N=20 $). По наблюдениям за 2018 год оцените математические ожидания доходностей и матрицу ковариаций доходностей (используйте выборочную матрицу ковариаций). Найденные вектор средних и матрица ковариаций будут далее использованы в экспериментах как «истинные» вектор $ E=(E_1, E_2, …, E_N) $ и матрица ковариаций $\\sigma_{i, j}$. Убедитесь, что матрица ковариаций невырожденная (если она близка к вырожденной, то измените состав активов)\n"
   ]
  },
  {
   "cell_type": "markdown",
   "id": "f45322d1",
   "metadata": {},
   "source": [
    "### Выберем первые 20 акций по капитализации из списка компаний, формирующих индекс Nasdaq-100.\n",
    "Этот индекс включает в себя 100 крупнейших по капитализации компаний, акции которых торгуются на бирже NASDAQ. "
   ]
  },
  {
   "cell_type": "code",
   "execution_count": 14,
   "id": "c8393bcc",
   "metadata": {
    "scrolled": false
   },
   "outputs": [
    {
     "name": "stdout",
     "output_type": "stream",
     "text": [
      "[*********************100%***********************]  20 of 20 completed\n"
     ]
    }
   ],
   "source": [
    "tickers = pd.read_csv(\"nasdaq-100_tickers.csv\", header=None) # TODO: найти невырожденную матрицу\n",
    "#tickers = pd.read_csv(\"nasdaq_screener.csv\", header=None)\n",
    "tickers = list(tickers[0].to_numpy())\n",
    "np.random.seed(425)\n",
    "np.random.shuffle(tickers)\n",
    "tickers20 = tickers[0:20] # det=0\n",
    "log_returns = download_data(tickers20, year=\"2018\")"
   ]
  },
  {
   "cell_type": "markdown",
   "id": "bd140bf3",
   "metadata": {},
   "source": [
    "### Рассчитаем выборочные средние и выборочную матрицу ковариаций"
   ]
  },
  {
   "cell_type": "code",
   "execution_count": 15,
   "id": "329e15ae",
   "metadata": {
    "scrolled": false
   },
   "outputs": [
    {
     "name": "stdout",
     "output_type": "stream",
     "text": [
      "20/20\n"
     ]
    }
   ],
   "source": [
    "means = calc_sample_means(log_returns)\n",
    "cov_mat = calc_sample_cov(log_returns, means, verbose=True)"
   ]
  },
  {
   "cell_type": "markdown",
   "id": "fe449630",
   "metadata": {},
   "source": [
    "### Проверим, является ли ковариационная матрица вырожденной"
   ]
  },
  {
   "cell_type": "code",
   "execution_count": 16,
   "id": "307349b0",
   "metadata": {
    "scrolled": true
   },
   "outputs": [
    {
     "name": "stdout",
     "output_type": "stream",
     "text": [
      "Матрица вырождена, det = 2.6227376699121365e-70\n",
      "Число обусловленности = 91.09461427029865\n"
     ]
    }
   ],
   "source": [
    "det = np.linalg.det(cov_mat.to_numpy(dtype=float))\n",
    "if det < 0.01:\n",
    "    print(\"Матрица вырождена, det =\", det)\n",
    "else:\n",
    "    print(\"Матрица невырождена, det =\", det)\n",
    "    \n",
    "cond = np.linalg.cond(cov_mat.to_numpy(dtype=float))\n",
    "print(\"Число обусловленности =\", cond)"
   ]
  },
  {
   "cell_type": "markdown",
   "id": "24d5464f",
   "metadata": {},
   "source": [
    "## 1. Истинный оптимальный портфель в модели Марковица с заданным отношением к риску.\n",
    "\n",
    "Задана константа b. Решите задачу оптимизации\n",
    "\n",
    "$$ \\begin{cases}  \n",
    "    -E(x) + b\\sigma(x) \\rightarrow  min \\\\\n",
    "    \\sum x_i = 1 \\\\ \n",
    "    x_i > 0 \\quad \\forall i\n",
    "\\end{cases} $$\n",
    "\n",
    "\n",
    "\n",
    "(т.е. найдите оптимальный портфель с отношением к риску, равным b). Найдите и зафиксируйте веса портфеля и значение целевой функции.\n",
    "\n",
    "Здесь \n",
    "\n",
    "$$E(x)= E_1x_1+E_2x_2+…+E_Nx_N,$$\n",
    "\n",
    "$\\sigma^2(x)=\\sum\\sum \\sigma_{i, j} x_ix_j$\n",
    "\n",
    "Комментарий: использовать solver задач оптимизации для общих целевых функций, так как $\\sigma(x)= \\sqrt{\\sum\\sum \\sigma_{i, j} x_ix_j}$"
   ]
  },
  {
   "cell_type": "markdown",
   "id": "5bccd055",
   "metadata": {},
   "source": [
    "### Пусть $b = 3$. Найдем такой оптимальный портфель методом наименьших квадратов"
   ]
  },
  {
   "cell_type": "code",
   "execution_count": 17,
   "id": "734b4d27",
   "metadata": {},
   "outputs": [],
   "source": [
    "def calc_utility_function(x, means, cov_mat, b):\n",
    "    return -calc_portfolio_return(x, means) + b * calc_portfolio_volatility(x, cov_mat)\n",
    "\n",
    "def find_optimal_portfolio(objective_function, args, n_stocks, decimals=4, short_sales=False): # x - weights of a portfolio\n",
    "    # Генерация случайного начального решения \n",
    "    x_initial = np.random.random(n_stocks)\n",
    "    #x_initial = np.ones(n_stocks)\n",
    "    x_initial = x_initial/np.sum(x_initial) # нормализация\n",
    "    x_initial = np.array(x_initial)\n",
    "        \n",
    "    # Ограничения     \n",
    "    constraints = [{'type': 'eq',\n",
    "                    'fun': lambda x: x.sum() - 1.0\n",
    "                   }]\n",
    "            \n",
    "    # Ограничения на область значений x\n",
    "    x_bounds = []\n",
    "    if short_sales:\n",
    "        # шорты разрешены, x принимает любое значение\n",
    "        for i in range(n_stocks):\n",
    "            x_bounds.append((None, None))\n",
    "    else:\n",
    "        # шорты запрещены, x принимает значение от 0 до 1\n",
    "        for i in range(n_stocks):\n",
    "            x_bounds.append((0, 1))        \n",
    "  \n",
    "    result = scipy.optimize.minimize(objective_function, # функция, которую хотим оптимизировать\n",
    "                                     x_initial, # начальное решение \n",
    "                                     args=args, # дополнительные аргументы целевой функции\n",
    "                                     method='SLSQP', # метод оптимизации (МНК)\n",
    "                                     constraints=constraints, # ограничения \n",
    "                                     bounds=x_bounds, # ограничения на значения x\n",
    "                                     options={'maxiter':1000, 'disp': False},\n",
    "                                     tol=1e-15 # tolerance? somehow fixes the issue lol 1e-15\n",
    "                                    )\n",
    "    \n",
    "    if result.success:\n",
    "        return np.around(result.x, decimals=decimals), result.fun\n",
    "    else:\n",
    "        print(\"Couldn't find minimum\")\n",
    "        return\n"
   ]
  },
  {
   "cell_type": "code",
   "execution_count": 19,
   "id": "0b04fb3c",
   "metadata": {},
   "outputs": [
    {
     "name": "stdout",
     "output_type": "stream",
     "text": [
      "Оптимальный портфель с отношением к риску, равным 3: \n",
      " [0.025 0.    0.    0.108 0.    0.    0.    0.065 0.    0.    0.    0.\n",
      " 0.    0.289 0.    0.129 0.    0.    0.385 0.   ]\n",
      "Значение целевой функции (-E(x)+ bσ(x)): -0.0005663179149980704\n"
     ]
    }
   ],
   "source": [
    "b = 3\n",
    "x_opt, opt_utility_function = find_optimal_portfolio(calc_utility_function, (means, cov_mat, b), n_stocks=means.shape[0], decimals=3, short_sales=False)\n",
    "print(f\"Оптимальный портфель с отношением к риску, равным {b}: \\n {x_opt}\")\n",
    "print(f\"Значение целевой функции (-E(x)+ bσ(x)): {opt_utility_function}\")"
   ]
  },
  {
   "cell_type": "markdown",
   "id": "b5601fc2",
   "metadata": {},
   "source": [
    "## 2. Оценка неопределенности оптимального портфеля в модели Марковица с заданным отношением к риску.\n"
   ]
  },
  {
   "cell_type": "markdown",
   "id": "ea044463",
   "metadata": {},
   "source": [
    "### 2.1\n",
    "Задайте число наблюдений $T=30$. С помощью генератора многомерного нормального распределения создайте выборку размера $Т$ из нормального распределения с вектором математических ожиданий $E=(E_1, E_2, …, E_N)$ и матрицей ковариаций $(\\sigma_i, \\sigma_j)$."
   ]
  },
  {
   "cell_type": "code",
   "execution_count": null,
   "id": "b4808fab",
   "metadata": {},
   "outputs": [],
   "source": []
  },
  {
   "cell_type": "markdown",
   "id": "b25401b6",
   "metadata": {},
   "source": [
    "### 2.2. \n",
    "По построенной выборке сделайте оценку $E_{est}$ вектора математических ожиданий и оценку $(\\sigma_{esti}, \\sigma_j)$ матрицы ковариаций. "
   ]
  },
  {
   "cell_type": "code",
   "execution_count": null,
   "id": "267c796e",
   "metadata": {},
   "outputs": [],
   "source": []
  },
  {
   "cell_type": "markdown",
   "id": "8c57ab7a",
   "metadata": {},
   "source": [
    "## 2.3 \n",
    "Используя эти оценки решите задачу оптимизации\n",
    "\n",
    "$\\begin{cases}  \n",
    "    -E_{est}(x) + b\\sigma_{est}(x) \\rightarrow  min \\\\\n",
    "    \\sum x_i = 1 \\\\ \n",
    "    x_i \\ge 0 \\quad \\forall i\n",
    "\\end{cases}$\n",
    "\n",
    "Здесь \n",
    "\n",
    "$E_{est}(x)= E_{est1}x_1+ E_{est2}x_2+…+ E_{estN}x_N ,$ \n",
    "\n",
    "$\\sigma_{est}^2(x) =\\sum\\sum \\sigma_{est (i, j)} x_ix_j$\n",
    "\n",
    "(т.е. найдите выборочный оптимальный портфель с отношением к риску, равным b). Найдите и зафиксируйте веса портфеля и значение целевой функции.\n"
   ]
  },
  {
   "cell_type": "code",
   "execution_count": null,
   "id": "8e51e723",
   "metadata": {},
   "outputs": [],
   "source": []
  },
  {
   "cell_type": "markdown",
   "id": "a1c2a3b0",
   "metadata": {},
   "source": [
    "### 2.4 \n",
    "Сравните два портфеля: истинный (п.1) и выборочный (п.2.3). Оцените относительную ошибку в определении весов портфеля в норме Manhattan (L1 норма Минковского). Сделайте выводы. Сделайте сравнение в системе координат $(\\sigma, E)$. "
   ]
  },
  {
   "cell_type": "code",
   "execution_count": null,
   "id": "243ca747",
   "metadata": {},
   "outputs": [],
   "source": []
  },
  {
   "cell_type": "markdown",
   "id": "a9a1b43c",
   "metadata": {},
   "source": [
    "### 2.5. \n",
    "Повторите эксперимент $S=40$ раз и оцените среднюю относительную ошибку по $S$ повторениям эксперимента. Сделайте выводы.  Сделайте сравнение в системе координат $(\\sigma, E)$. "
   ]
  },
  {
   "cell_type": "code",
   "execution_count": null,
   "id": "06a26f66",
   "metadata": {},
   "outputs": [],
   "source": []
  },
  {
   "cell_type": "markdown",
   "id": "2a49fbfd",
   "metadata": {},
   "source": [
    "### 2.6  \n",
    "Предположите, что нам известны точные значения математических ожиданий $E=(E_1, E_2, …, E_N)$. Повторите пп. 2.2-2.5. используя оценку только матрицы ковариаций (т.е. решайте задачу оптимизации \n",
    "\n",
    "$\\begin{cases}  \n",
    "    -E(x) + b\\sigma_{est}(x) \\rightarrow  min \\\\\n",
    "    \\sum x_i = 1 \\\\ \n",
    "    x_i \\ge 0 \\quad \\forall i\n",
    "\\end{cases}$\n",
    "\n",
    "Здесь \n",
    "\n",
    "$E(x)= E_1x_1+E_2x_2+…+E_Nx_N, $\n",
    "\n",
    "$\\sigma_{est}^2(x) =\\sum\\sum \\sigma_{est (i, j)} x_ix_j$ )\n",
    "\n",
    "Сравните точность этих портфелей и портфелей п.2.3\n"
   ]
  },
  {
   "cell_type": "code",
   "execution_count": null,
   "id": "f01654c3",
   "metadata": {},
   "outputs": [],
   "source": []
  },
  {
   "cell_type": "markdown",
   "id": "8767f6bd",
   "metadata": {},
   "source": [
    "## 3. Оценка неопределенности оптимального CVaR портфеля "
   ]
  },
  {
   "cell_type": "markdown",
   "id": "9c8865c1",
   "metadata": {},
   "source": [
    "### 3.1 \n",
    "Уровень значимости $β$ выбран $0,95$. Число наблюдений $T$. Используя сгенерированные наблюдения из п.2.1 решите задачу ЛП для определения оптимального $CVaRβ$ портфеля.  Найдите и зафиксируйте веса портфеля и значение целевой функции $CVaR$.  "
   ]
  },
  {
   "cell_type": "code",
   "execution_count": null,
   "id": "434a9191",
   "metadata": {},
   "outputs": [],
   "source": []
  },
  {
   "cell_type": "markdown",
   "id": "c2c85b27",
   "metadata": {},
   "source": [
    "### 3.2 \n",
    "Сравните два портфеля: истинный (п.1) и найденный в п.3.1.  Оцените относительную ошибку в определении весов портфеля в норме Manhattan (L1 норма Минковского). Сравните с ошибкой портфеля из п. 2.3"
   ]
  },
  {
   "cell_type": "code",
   "execution_count": null,
   "id": "83994bc1",
   "metadata": {},
   "outputs": [],
   "source": []
  },
  {
   "cell_type": "markdown",
   "id": "200f97ea",
   "metadata": {},
   "source": [
    "### 3.3. \n",
    "Повторите эксперимент $S$ раз и оцените среднюю относительную ошибку по S повторениям эксперимента. Сделайте выводы.  Сравните с ошибкой из п. 2.5 "
   ]
  },
  {
   "cell_type": "code",
   "execution_count": null,
   "id": "36e8233e",
   "metadata": {},
   "outputs": [],
   "source": []
  }
 ],
 "metadata": {
  "kernelspec": {
   "display_name": "Python 3",
   "language": "python",
   "name": "python3"
  },
  "language_info": {
   "codemirror_mode": {
    "name": "ipython",
    "version": 3
   },
   "file_extension": ".py",
   "mimetype": "text/x-python",
   "name": "python",
   "nbconvert_exporter": "python",
   "pygments_lexer": "ipython3",
   "version": "3.8.8"
  }
 },
 "nbformat": 4,
 "nbformat_minor": 5
}
